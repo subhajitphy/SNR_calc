{
 "cells": [
  {
   "cell_type": "code",
   "execution_count": 1,
   "id": "3694069e",
   "metadata": {},
   "outputs": [],
   "source": [
    "import numpy as np\n",
    "import matplotlib.pyplot as plt\n",
    "from TSKY import *\n",
    "from g_by_Tsys import *"
   ]
  },
  {
   "cell_type": "code",
   "execution_count": 2,
   "id": "aa6a0e55",
   "metadata": {},
   "outputs": [],
   "source": [
    "n_chan_b3=1024\n",
    "n_chan_b5=1024"
   ]
  },
  {
   "cell_type": "code",
   "execution_count": 3,
   "id": "733bb5cc",
   "metadata": {},
   "outputs": [],
   "source": [
    "data=np.loadtxt('samples.txt',dtype='object')"
   ]
  },
  {
   "cell_type": "code",
   "execution_count": 4,
   "id": "2da85da3",
   "metadata": {},
   "outputs": [],
   "source": [
    "PSR = data[:,1]\n",
    "S_400 = data[:,2]\n",
    "S_1400 = data[:,3]\n",
    "period = data[:,4].astype('float')\n",
    "width = data[:,5]\n",
    "Gl = data[:,6]\n",
    "Gb = data[:,7]\n",
    "BW = data[:,8].astype('float')\n",
    "\n",
    "DM = data[:,9].astype('float')\n",
    "T_obs=data[:,10].astype('float')\n",
    "data_b3 = np.loadtxt('band3.par')\n",
    "data_b5 = np.loadtxt('band5.par')\n"
   ]
  },
  {
   "cell_type": "code",
   "execution_count": 5,
   "id": "4578db86",
   "metadata": {},
   "outputs": [],
   "source": [
    "tskylist = readtskyfile()"
   ]
  },
  {
   "cell_type": "code",
   "execution_count": 6,
   "id": "eede9293",
   "metadata": {},
   "outputs": [],
   "source": [
    "def ISM_WIDTH(N_channel, bandwidth, nu, DM_psr, width_in):\n",
    "    Chan_width = bandwidth/N_channel # in MHz\n",
    "    K_DM = 8.3*(10.0**6.0)\n",
    "    W_DM = K_DM*DM_psr*(Chan_width/(nu**3.0))\n",
    "    W_scatt = 10.0**(-6.46+0.154*np.log10(DM_psr) + 1.07*(np.log10(DM_psr))**2.0 -3.86*np.log10(nu/1000.0))\n",
    "    if width_in == '*':\n",
    "        effective_width = '*'\n",
    "    else:\n",
    "        effective_width = np.sqrt(W_DM**2.0 + float(width_in)**2.0 + W_scatt**2.0)\n",
    "\n",
    "    return effective_width"
   ]
  },
  {
   "cell_type": "code",
   "execution_count": 7,
   "id": "51c09023",
   "metadata": {},
   "outputs": [],
   "source": [
    "def SNR(bandwidth, Int_time,flux,period, width_in, nu, BAND, N_channel, T_sky, DM_psr):\n",
    "\n",
    "    width_eff = ISM_WIDTH(N_channel,bandwidth,nu,DM_psr,width_in)\n",
    "\n",
    "    if flux != '*' and width_eff !='*':\n",
    "        flux = flux*10**-3\n",
    "        width = float(width_eff)*10**-3 # conversting from ms to sec\n",
    "        N_pol = 2.0\n",
    "        Delta_nu = bandwidth*10**6.0 ## Converting MHz to Hz\n",
    "        Int_time = Int_time*60.0 ## converting it in seconds\n",
    "        if BAND =='BAND3':\n",
    "            N_PA = 10.0\n",
    "            #G_by_Tsys =0.32/(106.0+T_sky)\n",
    "            G_by_Tsys = g_by_t_sys(data_b3, nu)/(1.0 + T_sky/106.0)\n",
    "        if BAND == 'BAND5':\n",
    "            N_PA = 14.0\n",
    "            #G_by_Tsys = 0.22/(73.0+T_sky)\n",
    "            G_by_Tsys = g_by_t_sys(data_b5, nu)/(1.0 + T_sky/73.0)\n",
    "        SNR = (flux*N_PA)*G_by_Tsys*(np.sqrt(N_pol*Delta_nu*Int_time))*(np.sqrt((period-width)/width))\n",
    "\n",
    "    else:\n",
    "        SNR = 0.0\n",
    "\n",
    "    return SNR"
   ]
  },
  {
   "cell_type": "code",
   "execution_count": 8,
   "id": "2aa42adb",
   "metadata": {},
   "outputs": [],
   "source": [
    "logical = np.logical_or(S_1400=='*', S_400=='*')\n",
    "logical_flux = np.logical_and(S_1400=='*', S_400=='*')"
   ]
  },
  {
   "cell_type": "code",
   "execution_count": 9,
   "id": "3c104b9f",
   "metadata": {},
   "outputs": [],
   "source": [
    "Band3_T=[]\n",
    "Band5_T=[]\n",
    "T_sky_400_l= []\n",
    "T_sky_1360_l =[]"
   ]
  },
  {
   "cell_type": "code",
   "execution_count": 10,
   "id": "ef40cf0a",
   "metadata": {},
   "outputs": [
    {
     "name": "stderr",
     "output_type": "stream",
     "text": [
      "<ipython-input-7-8c0c26a71451>:19: RuntimeWarning: invalid value encountered in sqrt\n",
      "  SNR = (flux*N_PA)*G_by_Tsys*(np.sqrt(N_pol*Delta_nu*Int_time))*(np.sqrt((period-width)/width))\n"
     ]
    }
   ],
   "source": [
    "for i in range(len(PSR)):\n",
    "    #print (i)\n",
    "    if logical[i] == True:\n",
    "        #print ('LEV 1')\n",
    "        spectral_index = -1.6\n",
    "    if logical[i] == False:\n",
    "        #print ('LEV 2')\n",
    "        S_400_m = float(S_400[i])\n",
    "        S_1400_m = float(S_1400[i])\n",
    "        spectral_index =np.log(S_400_m/S_1400_m)/np.log(400.0/1400.0)\n",
    "    \n",
    "    if logical_flux[i] == True:\n",
    "        S_BAND5 ='*'\n",
    "        S_BAND3 ='*'\n",
    "    else:\n",
    "        if S_1400[i] != '*':\n",
    "            S_BAND5 = float(S_1400[i])*(1360.0/1400.0)**(spectral_index)\n",
    "            S_BAND3 = float(S_1400[i])*(400.0/1400.0)**(spectral_index)\n",
    "        if S_1400[i] == '*':\n",
    "            S_BAND5 = float(S_400[i])*(1360.0/400.0)**(spectral_index)\n",
    "            S_BAND3 = float(S_400[i])*(400.0/400.0)**(spectral_index)\n",
    "\n",
    "\n",
    "    if Gl[i] =='*' or Gb[i]=='*':\n",
    "            T_sky = 0.0\n",
    "    else:\n",
    "            T_sky_400 = tskypy(400.0, float(Gl[i]), float(Gb[i]), tskylist) ## Computing T_sky from Manjari Bagchi's code.\n",
    "\n",
    "            T_sky_1360 = tskypy(1360.0, float(Gl[i]), float(Gb[i]), tskylist) ## Computing T_sky from Manjari Bagchi's code.\n",
    "    \n",
    "\n",
    "    T_sky_400_l.append(T_sky_400)\n",
    "    T_sky_1360_l.append(T_sky_1360)\n",
    "    Band3_T.append(SNR(BW[i],T_obs[i],S_BAND3,period[i], width[i], 400.0, 'BAND3', n_chan_b3, T_sky_400, DM[i]))\n",
    "    Band5_T.append(SNR(BW[i],T_obs[i],S_BAND5,period[i], width[i], 1360.0, 'BAND5', n_chan_b5, T_sky_1360, DM[i]))\n",
    "    "
   ]
  },
  {
   "cell_type": "code",
   "execution_count": 11,
   "id": "1460de81",
   "metadata": {},
   "outputs": [],
   "source": [
    "\n",
    "array = np.array(list(zip(PSR,T_obs,Band3_T, Band5_T)), dtype=object)"
   ]
  },
  {
   "cell_type": "code",
   "execution_count": 12,
   "id": "a542ddba",
   "metadata": {},
   "outputs": [],
   "source": [
    "np.savetxt('snr_output.txt', array, delimiter='\\t', fmt=['%s', '%0.f','%4.2f', '%4.2f'],\n",
    "          header='#J-Name\\tobs_time(min)\\tS/N(B3)\\tS/N(B5))')"
   ]
  },
  {
   "cell_type": "code",
   "execution_count": 13,
   "id": "6765477d",
   "metadata": {},
   "outputs": [
    {
     "data": {
      "text/plain": [
       "array([['J0030+0451', '15', '398.44', '42.01'],\n",
       "       ['J0034-0534', '15', '577.05', '22.27'],\n",
       "       ['J0437-4715', '17', '68650.76', '25401.95'],\n",
       "       ['J0613-0200', '32', '327.01', '195.40'],\n",
       "       ['J0740+6620', '15', '1380.93', '93.88'],\n",
       "       ['J0751+1807', '32', '415.90', '232.61'],\n",
       "       ['J0900-3144', '15', '819.19', '273.22'],\n",
       "       ['J1012+5307', '22', '1576.21', '268.35'],\n",
       "       ['J1022+1001', '22', '7080.39', '616.88'],\n",
       "       ['J1125+7819', '15', '863.35', '84.65'],\n",
       "       ['J1600-3053', '40', '593.76', '592.06'],\n",
       "       ['J1643-1224', '40', '2617.17', '721.41'],\n",
       "       ['J1713+0747', '45', '502.97', '2356.93'],\n",
       "       ['J1730-2304', '15', '1269.09', '266.69'],\n",
       "       ['J1744-1134', '40', '1772.76', '682.88'],\n",
       "       ['J1857+0943', '30', '798.41', '412.02'],\n",
       "       ['J1909-3744', '50', '1675.39', '929.81'],\n",
       "       ['J1939+2134', '15', 'nan', '1899.18'],\n",
       "       ['J1944+0907', '15', '687.03', '168.48'],\n",
       "       ['J2124-3358', '50', '1635.63', '597.57'],\n",
       "       ['J2145-0750', '40', '8565.14', '2891.30'],\n",
       "       ['J2302+4442', '15', '609.21', '134.36']], dtype=object)"
      ]
     },
     "execution_count": 13,
     "metadata": {},
     "output_type": "execute_result"
    }
   ],
   "source": [
    "np.loadtxt('snr_output.txt',dtype=object)"
   ]
  }
 ],
 "metadata": {
  "kernelspec": {
   "display_name": "Python 3",
   "language": "python",
   "name": "python3"
  },
  "language_info": {
   "codemirror_mode": {
    "name": "ipython",
    "version": 3
   },
   "file_extension": ".py",
   "mimetype": "text/x-python",
   "name": "python",
   "nbconvert_exporter": "python",
   "pygments_lexer": "ipython3",
   "version": "3.8.11"
  }
 },
 "nbformat": 4,
 "nbformat_minor": 5
}
